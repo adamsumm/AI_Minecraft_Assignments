{
 "cells": [
  {
   "cell_type": "markdown",
   "metadata": {},
   "source": [
    "In this assignment, you will be making a simple satisficing Minecraft crafting planner.  Given an initial state, you will want to find a series of actions that gets you to a desired goal state.  For fun, you will also use your implementations for Dijkstras and A* to show how they don't do well in a search space this large (without a lot of tweaking).\n",
    "\n",
    "In this assignment you will:\n",
    "\n",
    "* Parse and process a data file into a format that is usable in your code\n",
    "* Create a representation of a state space such that you can check preconditions and apply effects in an efficient manner\n",
    "* Create a method to convert the intuitive predicate based state system into a propositional system\n",
    "* Implement Width-Search utilizing Iterative Widening to efficiently find a plan that gets from an arbitrary state space to a desired state space\n",
    "* Compare Width-Search to optimal search methods such as Dijkstra's and A* to see how they compare in what they can efficiently solve\n",
    "\n",
    "The goal of this assignment is for you to understand:\n",
    "* How to manipulate data (a boring, but CRUCIAL skill)\n",
    "* How to navigate a state space that doesn't map to standard geometry (i.e., domains outside of palt\n",
    "* How the pruning of a search space can result in a drastic reduction in the time spent performing the search"
   ]
  },
  {
   "cell_type": "markdown",
   "metadata": {},
   "source": [
    "First we will load in crafting.json,  a json file that"
   ]
  },
  {
   "cell_type": "code",
   "execution_count": null,
   "metadata": {},
   "outputs": [],
   "source": [
    "import json\n",
    "from typing import NamedTuple, Dict, Tuple, Optional, Sequence, List, Set, FrozenSet\n",
    "import array\n",
    "import heapq\n",
    "import time\n",
    "import itertools\n",
    "\n",
    "with open('Crafting.json') as f:\n",
    "    Crafting = json.load(f)\n",
    "\n",
    "# List of items that can be in your inventory:\n",
    "print(Crafting['Items'])\n",
    "# example: ['bench', 'cart', ..., 'wood', 'wooden_axe', 'wooden_pickaxe']\n",
    "\n",
    "# List of items needed to be in your inventory at the end of the plan:\n",
    "# (okay to have more than this; some might be satisfied by initial inventory)\n",
    "print(Crafting['Goal'])\n",
    "# {'stone_pickaxe': 2}\n",
    "\n",
    "# Dict of crafting recipes (each is a dict):\n",
    "print(Crafting['Recipes']['craft stone_pickaxe at bench'])\n",
    "# example:\n",
    "# {\t'Produces': {'stone_pickaxe': 1},\n",
    "#\t'Requires': {'bench': True},\n",
    "#\t'Consumes': {'cobble': 3, 'stick': 2},\n",
    "#\t'Time': 1\n",
    "# }\n"
   ]
  },
  {
   "cell_type": "markdown",
   "metadata": {},
   "source": [
    "Let's reflect a little bit.\n",
    "1. Do the recipe dictionaries in `crafting.json` all have the same set of keys?  Print out a few to find out, or read the JSON file.\n",
    "2. What is similar about the `Initial`, `Goal`, `Produces`, `Consumes`, and `Requires` schema?  What is different about them?\n",
    "3. Thinking back to your data structures class, what operations are involved in looking up a key in a dictionary data structure, and how does that compare to obtaining values from an array?\n",
    "4. Look this up if you need to: What is the difference between a Python `List` of integers and a Python `array.array` of integers?"
   ]
  },
  {
   "cell_type": "markdown",
   "metadata": {},
   "source": [
    "Let's proceed by using the same data representation for an inventory state (as in `Initial`), a partial inventory state (as in `Goal`, `Produces`, and `Consumes`), and the inventory query posed by `Requires`.\n",
    "Because the speed of the inner loop is of supreme importance in graph search, we'll want to use an `array` of unsigned integers data representation for each of these (this may feel like premature optimization; email me if you want extra credit by comparing it with a simple dict-based representation).\n",
    "In order to go back and forth between item names and item indices, let's define a couple of global variables:"
   ]
  },
  {
   "cell_type": "code",
   "execution_count": null,
   "metadata": {},
   "outputs": [],
   "source": [
    "items_by_index = list(sorted(Crafting['Items']))\n",
    "items_to_indices = {item: index for index, item in enumerate(items_by_index)}"
   ]
  },
  {
   "cell_type": "markdown",
   "metadata": {},
   "source": [
    "\n",
    "We'll wrap our array-of-items data structure in a convenience class called `State`.\n",
    "Because we'll need to put `State`s into closed sets, priority queues, and so on, we'll need them to be hashable, equatable, and comparable.\n",
    "We also will need to be adding and subtracting inventory states from each other later on, so we'll put that in there too.\n",
    "A skeleton of this class is provided below, with some of the data handling code given.\n"
   ]
  },
  {
   "cell_type": "code",
   "execution_count": null,
   "metadata": {},
   "outputs": [],
   "source": [
    "\n",
    "class State:\n",
    "    items: array.array\n",
    "\n",
    "    def __init__(self, items: Optional[Sequence[int]] = None) -> None:\n",
    "        if items is not None:\n",
    "            # Copying a state from an old state.\n",
    "            # This call to the array constructor creates an array of unsigned integers and initializes it from the contents of items.\n",
    "            self.items = array.array('I', items)\n",
    "        else:\n",
    "            self.items = array.array('I', [0 for item in items_by_index])\n",
    "\n",
    "    def __add__(self, other:'State')->'State':\n",
    "        s = State(self.items)\n",
    "        # TODO How do you add two states together\n",
    "        return s\n",
    "    def __sub__(self, other:'State')->'State':\n",
    "        s = State(self.items)\n",
    "        # TODO How do you subtract one state from another\n",
    "        return s\n",
    "\n",
    "    def __ge__(self, other:'State')->bool:\n",
    "        # TODO How do we know whether one state (self) contains everything that's inside of another (other)? \n",
    "        return True\n",
    "        \n",
    "    def __lt__(self, other:'State')->bool:\n",
    "        return not (self >= other)\n",
    "\n",
    "    def __eq__(self, other:'State')->bool:\n",
    "        return self.items == other.items\n",
    "\n",
    "    def __hash__(self)->int:\n",
    "        hsh = 5381\n",
    "        for s in self.items:\n",
    "            hsh = ((hsh << 5) + hsh) + s\n",
    "        return hsh\n",
    "\n",
    "    def __str__(self)-> str:\n",
    "        out_str = []\n",
    "        for k,v  in self.to_dict().items():\n",
    "            out_str.append('{}:{}'.format(k,v))\n",
    "        return ', '.join(out_str)\n",
    "\n",
    "    def to_dict(self) -> Dict[str, int]:\n",
    "        return {items_by_index[idx]: self.items[idx]\n",
    "                for idx in range(len(self.items))}\n",
    "\n",
    "    @classmethod\n",
    "    def from_dict(cls, item_dict: Dict[str, int]) -> 'State':\n",
    "        return cls([\n",
    "            item_dict.get(item, 0) for item in items_by_index\n",
    "        ])"
   ]
  },
  {
   "cell_type": "markdown",
   "metadata": {},
   "source": [
    "At this point we can already solve trivial problems:"
   ]
  },
  {
   "cell_type": "code",
   "execution_count": null,
   "metadata": {},
   "outputs": [],
   "source": [
    "# Example\n",
    "initial = State.from_dict({'stone_pickaxe':1, 'ingot':2})\n",
    "goal = State.from_dict({'ingot':1})\n",
    "print(initial)\n",
    "print(goal)\n",
    "print(initial >= goal)\n",
    "print(goal < initial)\n",
    "print(goal >= initial)"
   ]
  },
  {
   "cell_type": "markdown",
   "metadata": {},
   "source": [
    "Now that we have our state representation, we can rephrase the recipes in terms of what they need from the state.\n",
    "Python has a useful datastructure -- `namedtuple` -- we can use for this purpose, so we'll have a `namedtuple` type called `Recipe`.  \n",
    "\n",
    "    "
   ]
  },
  {
   "cell_type": "code",
   "execution_count": null,
   "metadata": {},
   "outputs": [],
   "source": [
    "class Recipe(NamedTuple):\n",
    "    produces: State\n",
    "    consumes: State\n",
    "    requires: State\n",
    "    cost: int"
   ]
  },
  {
   "cell_type": "markdown",
   "metadata": {},
   "source": [
    "It acts like a tuple in that its data are laid out contiguously in memory and it is immutable, but it has convenient accessors.\n",
    "Let's initialize a dictionary mapping names to recipes:"
   ]
  },
  {
   "cell_type": "code",
   "execution_count": null,
   "metadata": {},
   "outputs": [],
   "source": [
    "recipes: Dict[str, Recipe] = {}\n",
    "for name, rule in Crafting['Recipes'].items():\n",
    "    recipes[name] = Recipe(\n",
    "        State.from_dict(rule.get('Produces', {})),\n",
    "        State.from_dict(rule.get('Consumes', {})),\n",
    "        State.from_dict({item: 1 if req else 0\n",
    "                         for item, req in rule.get('Requires', {}).items()}),\n",
    "        rule['Time']\n",
    "    )\n",
    "    "
   ]
  },
  {
   "cell_type": "markdown",
   "metadata": {},
   "source": [
    "Now we have our state representation and our action representation for the crafting domain.\n",
    "Let's reflect.\n",
    "\n",
    "5. What was the state representation in the path planning assignment?\n",
    "6. What was the action representation?\n",
    "7. How many possible actions are there in the whole domain, and how many of those are possible in a given state?\n",
    "\n",
    "In fact, we can consider any planning problem in terms of states and a transition relation between states and those actions which are valid in that state. \n",
    "If we're thinking about path planning as search on the graph of possible locations (with edges given by a connectedness relation), task planning can be seen as search on the graph of possible states (with edges given by the state transition relation).\n",
    "Let's implement the transition relation now:"
   ]
  },
  {
   "cell_type": "code",
   "execution_count": null,
   "metadata": {},
   "outputs": [],
   "source": [
    "\n",
    "def preconditions_satisfied(state: State, recipe: Recipe) -> bool:\n",
    "    # TODO What needs to be true about state and recipe?\n",
    "    # Feel free to use State's >= method\n",
    "    \n",
    "    \n",
    "    \n",
    "    return False\n",
    "\n",
    "def apply_effects(state: State, recipe: Recipe) -> State:\n",
    "    #TODO What happens when a recipe is used?\n",
    "    return None\n",
    "\n",
    "\n",
    "initial = State.from_dict({'stone_pickaxe':1, 'ingot':2})\n",
    "\n",
    "#Let's try using the pickaxe\n",
    "if preconditions_satisfied(initial,recipes['stone_pickaxe for cobble']):\n",
    "    print('Stone Pickaxe',apply_effects(initial,recipes['stone_pickaxe for cobble']))\n",
    "\n",
    "if preconditions_satisfied(initial,recipes['wooden_pickaxe for cobble']):\n",
    "    print('Wooden Pickaxe',apply_effects(initial,recipes['wooden_pickaxe for cobble']))\n"
   ]
  },
  {
   "cell_type": "markdown",
   "metadata": {},
   "source": [
    "**Planning via Graph Search**\n",
    "\n",
    "Remember back to BFS.  Consider how the one presented in class wouldneed to change so it works on states-and-actions instead of locations-and-directions?\n",
    "\n",
    "\n",
    "Let's try it:"
   ]
  },
  {
   "cell_type": "code",
   "execution_count": null,
   "metadata": {},
   "outputs": [],
   "source": [
    "def plan_bfs(initial: State, goal: State, limit:int) -> Tuple[int, Optional[List[str]]]:    \n",
    "    start_time = time.time()\n",
    "    # E. Implement it here!  \n",
    "    #When you find a solution, print out the number of nodes visited.  \n",
    "    #If you don't find a solution, print out the number of nodes visited. \n",
    "    # Return a tuple of (nodes_visited,None) if no path exists, \n",
    "    #  or else a tuple of (nodes_visited, cost, path) where path is a list of recipe names.\n",
    "    # You should also use limit to avoid visiting too many nodes before returning _something_.\n",
    "    \n",
    "    \n",
    "    pass"
   ]
  },
  {
   "cell_type": "code",
   "execution_count": null,
   "metadata": {},
   "outputs": [],
   "source": [
    "#Let's try it out\n",
    "print(plan_bfs(State.from_dict({}),\n",
    "                    State.from_dict({'stone_pickaxe':1}),\n",
    "                    200000))\n",
    "print(plan_bfs(State.from_dict({'bench':1,'stone_pickaxe':1}),\n",
    "                    State.from_dict({'ingot':1}),\n",
    "                    200000))"
   ]
  },
  {
   "cell_type": "markdown",
   "metadata": {},
   "source": [
    "9. Imagine applying Dijkstra's here.  How would things change?  Image applying A* here.  What heuristic would you want to use?  Is that heuristic admissible?  Is that a problem?\n",
    "10. What's the largest planning problem (initial and goal state) you can think up which your BFS implementation can solve within 30 seconds?  How many nodes does it visit and how long does it take in wall-clock time?"
   ]
  },
  {
   "cell_type": "markdown",
   "metadata": {},
   "source": [
    "**Planning with Iterated Widening**\n",
    "\n",
    "Let's compare against a dedicated planning algorithm, rather than applying graph search naively.\n",
    "Planning domains have some significant differences from general graph search problems---let's reflect on what they might be.\n",
    "11. In graph search, what is the goal of a search?  How is that different from the goal of a planning problem?\n",
    "12. In graph search, what are the preconditions for traversing an edge?  How does this differ in a planning problem?\n",
    "13. In graph search, detecting cycles is relatively cheap.  Is that the case for planning problems?\n",
    "14. Is there more than one type of \"cycle\" in our crafting planning problem?\n",
    "\n",
    "Think about a recipe like making a stone pickaxe.\n",
    "Every possible planning state either satisfies its preconditions or doesn't.\n",
    "If this recipe were the only action, we could formulate the problem as a domain with just three `abstract` states---one without a pickaxe and without the needed supplies, one without a pickaxe and with the needed supplies, and one with a pickaxe (and it doesn't matter what else is in the state).\n",
    "15. If we had a domain with just two recipes (`punch for wood` and `wood planks`), what would be the abstract states in the sense used above?\n",
    "\n",
    "We can automate the intuition of (15) by transforming our states into `combinations of propositions`\n",
    "A `proposition` here is a logical fact entailed by the state; for example `I have at least one piece of wood`, `I have at least two pieces of wood`, `I have at least one plank`, and so on.\n",
    "Note that if we have two pieces of wood then we necessarily have one piece of wood as well!\n",
    "`Iterated Widening` is a planning algorithm which works by abstracting away differences between states and discarding states which are too similar to states which have been seen already in this iteration.\n",
    "Two states are similar if they share some number of propositions in common---so if the `width` measure is one, then when we have seen one state where we have at least one stick we subsequently ignore every other state we might find later with one or more sticks (we'll relax this a little to say \"any sufficiently different state is worth exploring\"---so if it has at least a few propositions that are unique with respect to all seen combinations of a given width, we will consider it).\n",
    "To regain completeness---to always find a solution if one exists---the size of the combinations of items considered in this similarity computation is gradually increased until a solution is found.\n",
    "\n",
    "\n",
    "\n",
    "Now we will define a Proposition of the form \n",
    "`I have at least N of item INDEX`\n",
    "\n",
    "Then we will define a function that takes in a state and propositionalizes it.  E.g.\n",
    "\n",
    "If we have:\n",
    "`items_by_index = ['wood', 'cobble', 'bench']` \n",
    "and\n",
    "our current state is:\n",
    "`{'wood':5, 'bench':1}`\n",
    "\n",
    "then propositionalized version should be a set of:\n",
    "`Proposition(1,5), Proposition(1,4), Proposition(1,3), Proposition(1,2), Proposition(1,1), Proposition(3,1)`\n",
    "\n",
    "i.e. we have at least 1,2,3,4, and 5 pieces of wood, and at least 1 bench.\n",
    "\n"
   ]
  },
  {
   "cell_type": "code",
   "execution_count": null,
   "metadata": {},
   "outputs": [],
   "source": [
    "class Proposition(NamedTuple):\n",
    "    item: int\n",
    "    at_least: int\n",
    "\n",
    "def state_propositions(state: State) -> Set[Proposition]:\n",
    "    propositions: Set[Proposition] = set()\n",
    "    # TODO Do something for each item in state.  Output all propositions entailed by the state's contents\n",
    "    return propositions"
   ]
  },
  {
   "cell_type": "markdown",
   "metadata": {},
   "source": [
    "Now let's get the propositions from the recipes"
   ]
  },
  {
   "cell_type": "code",
   "execution_count": null,
   "metadata": {},
   "outputs": [],
   "source": [
    "\n",
    "def recipe_to_propositions(recipe: Recipe) -> Set[Proposition]:\n",
    "    propositions: Set[Proposition] = set()\n",
    "    # TODO Do something with recipe.consumes, recipe.produces, and recipe.requires.\n",
    "    # Emit, for this recipe, all the propositions entailed by the postconditions \n",
    "    #and the _minimal_ set of propositions required for the preconditions \n",
    "    #(i.e., don't need to output wood >= 2, wood >= 1, wood >= 0 if the recipe needs 2 wood.)\n",
    "    return propositions\n",
    "\n",
    "recipe_propositions = set()\n",
    "for r in recipes:\n",
    "    recipe_propositions |= recipe_to_propositions(recipes[r])\n",
    "    "
   ]
  },
  {
   "cell_type": "markdown",
   "metadata": {},
   "source": [
    "We can capture the notion of \"ignoring states that are not different enough\" by using the idea of a closed set from the cycle prevention techniques in graph search.\n",
    "Instead of checking that the newly expanded state is present in a set of seen states, we can check whether it offers any predicate combinations of width up to $W$ we haven't already encountered at width bound $W$.\n",
    "Given the set of propositions that are important in our state, we want to create a list of all the propositions and combinations of up to $W$ propositions.\n",
    "When considering a newly expanded state $s$, we find all of the unique combinations of propositions that are true in $s$ and return the size of the smallest such combination; we compare this size against $W$ and give up if it is too high.\n",
    "\n",
    "For example:\n",
    "- If $s$ was the first state we've seen with `benchz>=1` it would have width 1; we use the closed set to determine whether a given combination has been seen before.\n",
    "- If $s$ was the first state with `bench>=1` and `wooden_axe>=1` but no new atomic propositions, it would have width 2\n",
    "- If $s$ has no unique combinations up to size $W$, we say it has infinite width (which we can write as just W+1, since we ignore states wider than $W$).\n",
    "- If the width of $s$ is greater than $W$, we do not add it to the open queue.\n",
    "\n",
    "Provided is a snippet that will check whether a state satisfies a set representing a combination of propositions.\n",
    "It will be useful in determining whether a state is novel."
   ]
  },
  {
   "cell_type": "code",
   "execution_count": null,
   "metadata": {},
   "outputs": [],
   "source": [
    "# Example, assuming propositions is a Set[Proposition]\n",
    "state_props:Set[Proposition] = state_propositions(state)\n",
    "if state_props.issuperset(propositions):\n",
    "    pass\n",
    "    # The state has this combination!\n",
    "else:\n",
    "    pass\n",
    "    # The state does not!"
   ]
  },
  {
   "cell_type": "markdown",
   "metadata": {},
   "source": [
    "Now you are equipped to implement iterated widening search.\n",
    "For each instance of the search, you will want to keep track of all the witnessed combinations of propositions; this can be a set of sets (well, a set of `FrozenSets`, a Python type for an immutable set).\n",
    "To update this set, you will implement a function `see_state(s:State, combinations:List[FrozenSet[Proposition]], seen_combinations:Set[FrozenSet[Proposition]]) -> bool` which will take in a state, a list of combinations (sets of Propositions), and the seen set and output whether any new combinations were witnessed in this state.\n",
    "Note that one state might lead to the discovery of several new combinations."
   ]
  },
  {
   "cell_type": "code",
   "execution_count": null,
   "metadata": {},
   "outputs": [],
   "source": [
    "def see_state(state:State, combinations:List[Set[Proposition]], seen_combinations:Set[FrozenSet[Proposition]]) -> bool:\n",
    "    any_new = False\n",
    "        \n",
    "        # TODO Is this combination already in seen_combinations?\n",
    "        #  If not, it's novel; so is this combination a subset of the state_props?\n",
    "        \n",
    "    return any_new"
   ]
  },
  {
   "cell_type": "markdown",
   "metadata": {},
   "source": [
    "The outer loop of iterative widening gradually increases the bound $W$ up to a given $WMax$.\n",
    "The inner loop has the same skeleton as a standard graph search, with the exception that non-novel states are immediately thrown away.\n",
    "For now, implement iterative widening's inner loop using breadth-first search.\n",
    "\n",
    "Your search should return the sequence of actions required to reach a goal condition from an initial condition, along with the cost of that plan.\n",
    "You also may want to print output describing how many nodes are visited and how much time has been taken for each value of $W$.\n",
    "\n",
    "\n",
    "Iterated Widening is a pruning technique that admits a lot of different search techniques:\n",
    "Try it with:\n",
    "* Depth-First Search \n",
    "    * Try changing the order of the recipes\n",
    "        * the default order\n",
    "        * randomly shuffled\n",
    "        * sorted from lowest to highest cost\n",
    "        * highest to lowest cost\n",
    "* Breadth-First Search\n"
   ]
  },
  {
   "cell_type": "code",
   "execution_count": null,
   "metadata": {},
   "outputs": [],
   "source": [
    "import random\n",
    "\n",
    "def width_search(initial: State, goal: State, WMax: int) -> Tuple[int, Optional[List[str]]]:\n",
    "    start_time = time.time()\n",
    "    all_propositions = recipe_propositions | state_propositions(initial) | state_propositions(goal)\n",
    "    all_combinations: List[FrozenSet[Proposition]] = []\n",
    "    # Increase W up to WMax\n",
    "    for W in range(1, WMax + 1):\n",
    "        visited = 0\n",
    "        # Calculate all combinations of propositions at size W and add to all_combination\n",
    "        all_combinations += [frozenset(props) for props in itertools.combinations(all_propositions, W)]\n",
    "        print(\"W=\",W,\"Combination count=\",len(all_combinations))\n",
    "        # Track, for each combination (by index), whether we have seen this combination before (0 for no, >0 for yes)\n",
    "        seen_combinations: Set[FrozenSet[Proposition]] = set()\n",
    "        # Initialize seen_combinations\n",
    "        see_state(initial, all_combinations, seen_combinations)\n",
    "        open_list: List[Tuple[int, State]] = [(0, initial)]\n",
    "        best_costs: Dict[State, int] = {initial: 0}\n",
    "        best_from: Dict[State, List[str]] = {initial: []}\n",
    "        while open_list:\n",
    "            visited += 1\n",
    "            # TODO This should look like your graph search, except...\n",
    "            # Call see_state on newly expanded states to update seen_combinations and use its return value to decide whether to add this state to the open list (is that the only thing that determines whether it should go on the open list?)\n",
    "            \n",
    "    return visited, -1, None"
   ]
  },
  {
   "cell_type": "code",
   "execution_count": null,
   "metadata": {},
   "outputs": [],
   "source": [
    "\n",
    "#print(width_search(State.from_dict({}),State.from_dict({'bench':1}),2))\n",
    "print(width_search(State.from_dict({'wood':1}),State.from_dict({'wooden_pickaxe':1}),3))\n",
    "print(width_search(State.from_dict({'wood':1}),State.from_dict({'iron_pickaxe':1}),4))\n",
    "print(width_search(State.from_dict({}),State.from_dict({'rail':1}),4))\n",
    "print(width_search(State.from_dict({}),State.from_dict({'cart':1}),4))\n"
   ]
  },
  {
   "cell_type": "markdown",
   "metadata": {},
   "source": [
    "For extra credit (10 points) adapt your A* approach to work with the Iterated Widening"
   ]
  },
  {
   "cell_type": "code",
   "execution_count": null,
   "metadata": {},
   "outputs": [],
   "source": []
  }
 ],
 "metadata": {
  "kernelspec": {
   "display_name": "Python 3",
   "language": "python",
   "name": "python3"
  },
  "language_info": {
   "codemirror_mode": {
    "name": "ipython",
    "version": 3
   },
   "file_extension": ".py",
   "mimetype": "text/x-python",
   "name": "python",
   "nbconvert_exporter": "python",
   "pygments_lexer": "ipython3",
   "version": "3.6.5"
  }
 },
 "nbformat": 4,
 "nbformat_minor": 2
}
